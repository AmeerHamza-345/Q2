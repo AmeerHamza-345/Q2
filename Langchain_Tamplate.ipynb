{
  "nbformat": 4,
  "nbformat_minor": 0,
  "metadata": {
    "colab": {
      "provenance": [],
      "authorship_tag": "ABX9TyO3n5KDimMpCvORdOJxo2WK",
      "include_colab_link": true
    },
    "kernelspec": {
      "name": "python3",
      "display_name": "Python 3"
    },
    "language_info": {
      "name": "python"
    }
  },
  "cells": [
    {
      "cell_type": "markdown",
      "metadata": {
        "id": "view-in-github",
        "colab_type": "text"
      },
      "source": [
        "<a href=\"https://colab.research.google.com/github/AmeerHamza-345/Q2/blob/main/Langchain_Tamplate.ipynb\" target=\"_parent\"><img src=\"https://colab.research.google.com/assets/colab-badge.svg\" alt=\"Open In Colab\"/></a>"
      ]
    },
    {
      "cell_type": "code",
      "execution_count": 64,
      "metadata": {
        "id": "_anhntSCR3F0"
      },
      "outputs": [],
      "source": [
        "!pip install --q  langchain langchain-google-genai\n"
      ]
    },
    {
      "cell_type": "code",
      "source": [
        "import langchain_google_genai as genai\n",
        "from langchain_google_genai import ChatGoogleGenerativeAI"
      ],
      "metadata": {
        "id": "C7i5Ak8XSyVe"
      },
      "execution_count": 35,
      "outputs": []
    },
    {
      "cell_type": "code",
      "source": [
        "from google.colab import userdata\n",
        "Google_API_KEY = userdata.get('Google_API_KEY')\n",
        "LANGCHAIN_API_KEY= userdata.get('LANGCHAIN_API_KEY')\n",
        "#LANGCHAIN_TRACING_V2=true\n",
        "LANGCHAIN_ENDPOINT=\"https://api.smith.langchain.com\"\n",
        "\n",
        "LANGCHAIN_PROJECT=\"Hello_world\"\n"
      ],
      "metadata": {
        "id": "UpwNUOIBTCg5"
      },
      "execution_count": 46,
      "outputs": []
    },
    {
      "cell_type": "code",
      "source": [
        "\n",
        "model_2_0:ChatGoogleGenerativeAI = ChatGoogleGenerativeAI(\n",
        "  model = \"gemini-2.0-flash-exp\",\n",
        "  api_key = Google_API_KEY\n",
        ")\n",
        "#Audio, images, videos, and text\tText, images (coming soon), and audio (coming soon)\n",
        "#Next generation features, speed, and multimodal generation for a diverse variety of tasks"
      ],
      "metadata": {
        "id": "dw8nm-xTUPCF"
      },
      "execution_count": 60,
      "outputs": []
    },
    {
      "cell_type": "code",
      "source": [
        "response = model_2_0.invoke(\"Hello\")\n",
        "print(response.content)"
      ],
      "metadata": {
        "colab": {
          "base_uri": "https://localhost:8080/"
        },
        "id": "en4s8xXBjAb1",
        "outputId": "b6be44c9-5bca-4992-e1f2-29e6dd96ee14"
      },
      "execution_count": 61,
      "outputs": [
        {
          "output_type": "stream",
          "name": "stdout",
          "text": [
            "Hi there! How can I help you today?\n",
            "\n"
          ]
        }
      ]
    },
    {
      "cell_type": "code",
      "source": [
        "\n",
        "model_1_5:ChatGoogleGenerativeAI = ChatGoogleGenerativeAI(\n",
        "  model = \"gemini-1.5-flash\",\n",
        "  api_key = Google_API_KEY\n",
        ")\n",
        "#Audio, images, videos, and text\tText\tFast and versatile performance across a diverse variety of tasks"
      ],
      "metadata": {
        "id": "8st3P90viHkk"
      },
      "execution_count": 57,
      "outputs": []
    },
    {
      "cell_type": "code",
      "source": [
        "response = model_1_5.invoke(\"Hello\")\n",
        "print(response.content)"
      ],
      "metadata": {
        "colab": {
          "base_uri": "https://localhost:8080/"
        },
        "id": "-DOOh49aXilG",
        "outputId": "2c5d91d9-156d-48d4-9ee1-c13863f9f884"
      },
      "execution_count": 58,
      "outputs": [
        {
          "output_type": "stream",
          "name": "stdout",
          "text": [
            "Hello there! How can I help you today?\n",
            "\n"
          ]
        }
      ]
    }
  ]
}