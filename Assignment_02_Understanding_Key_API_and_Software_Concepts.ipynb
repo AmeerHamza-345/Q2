{
  "nbformat": 4,
  "nbformat_minor": 0,
  "metadata": {
    "colab": {
      "provenance": [],
      "authorship_tag": "ABX9TyOFN3L1bHdhw40LsmiiJ7C/",
      "include_colab_link": true
    },
    "kernelspec": {
      "name": "python3",
      "display_name": "Python 3"
    },
    "language_info": {
      "name": "python"
    }
  },
  "cells": [
    {
      "cell_type": "markdown",
      "metadata": {
        "id": "view-in-github",
        "colab_type": "text"
      },
      "source": [
        "<a href=\"https://colab.research.google.com/github/AmeerHamza-345/Q2/blob/main/Assignment_02_Understanding_Key_API_and_Software_Concepts.ipynb\" target=\"_parent\"><img src=\"https://colab.research.google.com/assets/colab-badge.svg\" alt=\"Open In Colab\"/></a>"
      ]
    },
    {
      "cell_type": "markdown",
      "source": [
        "\n",
        "\n",
        "#**API**:\n",
        "An **Application Programming Interface** is a set of rules and protocols enabling interaction between different software components.\n",
        "\n",
        "##**SDK**:\n",
        "  A **Software Development Kit** is a collection of tools, libraries, and documentation designed to help developers create applications for specific platforms.\n",
        "\n",
        "###**Web APIs**:\n",
        "  These are interfaces that allow interaction with web-based services, enabling data exchange over the internet.\n",
        "\n",
        "####**Library APIs**:\n",
        "   These APIs provide an interface to utilize pre-written functions or methods available in a programming library.\n",
        "\n",
        "#####**Prompting and Completion**:\n",
        "  In LLMs, prompting is the process of providing input, while completion refers to generating a response based on the given prompt."
      ],
      "metadata": {
        "id": "PXiHDHHMX2OQ"
      }
    }
  ]
}